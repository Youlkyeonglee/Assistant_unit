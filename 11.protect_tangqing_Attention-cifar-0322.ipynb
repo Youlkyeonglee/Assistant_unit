{
 "cells": [
  {
   "cell_type": "code",
   "execution_count": 1,
   "metadata": {},
   "outputs": [],
   "source": [
    "\n",
    "from __future__ import print_function, division\n",
    "%load_ext autoreload\n",
    "%autoreload 2\n",
    "import torch\n",
    "import torch.nn as nn\n",
    "import torch.optim as optim\n",
    "from torch.autograd import Variable\n",
    "from torch.optim import lr_scheduler\n",
    "from torch.utils.data import Dataset, DataLoader\n",
    "from torch.nn import init\n",
    "import torch.nn.functional as F\n",
    "import functools\n",
    "import numpy as np\n",
    "import torchvision\n",
    "from torchvision import transforms, datasets, models\n",
    "import os\n",
    "import time\n",
    "\n",
    "import Augmentor\n",
    "\n",
    "from torchsummary import summary\n",
    "\n",
    "from tensorboardX import SummaryWriter\n",
    "\n",
    "import matplotlib.pyplot as plt"
   ]
  },
  {
   "cell_type": "code",
   "execution_count": 2,
   "metadata": {},
   "outputs": [],
   "source": [
    "# Training settings\n",
    "batch_size = 32"
   ]
  },
  {
   "cell_type": "code",
   "execution_count": 19,
   "metadata": {},
   "outputs": [
    {
     "name": "stdout",
     "output_type": "stream",
     "text": [
      "Files already downloaded and verified\n",
      "train_size:  50000 \n",
      "test_size :  10000\n",
      "('plane', 'car', 'bird', 'cat', 'deer', 'dog', 'frog', 'horse', 'ship', 'truck')\n",
      "len class:  10\n"
     ]
    }
   ],
   "source": [
    "#%%\n",
    "\n",
    "p = Augmentor.Pipeline()\n",
    "p.random_erasing(0.5,0.4)\n",
    "\n",
    "\n",
    "\n",
    "\n",
    "train_transform = transforms.Compose([\n",
    "    transforms.RandomHorizontalFlip(),\n",
    "#     transforms.RandomCrop((32, 32), padding=4),   #left, top, right, bottom\n",
    "    p.torch_transform(),\n",
    "#     p.sample(10000),\n",
    "    transforms.ToTensor()\n",
    "])\n",
    "test_transform = transforms.Compose([\n",
    "    transforms.ToTensor()\n",
    "])\n",
    "\n",
    "train_dataset = datasets.CIFAR10(root='/home/lee/Research/3.place_lbp_prediction_ISIE2019/Residual_Attention_Network/create_attention_model/data/',\n",
    "                               train=True,\n",
    "                               transform=train_transform,\n",
    "                               download=True)\n",
    "\n",
    "test_dataset = datasets.CIFAR10(root='/home/lee/Research/3.place_lbp_prediction_ISIE2019/Residual_Attention_Network/create_attention_model/data/',\n",
    "                              train=False,\n",
    "                              transform=test_transform)\n",
    "\n",
    "# Data Loader (Input Pipeline)\n",
    "train_loader = torch.utils.data.DataLoader(dataset=train_dataset,\n",
    "                                           batch_size=batch_size, # 64\n",
    "                                           shuffle=True, num_workers=4)\n",
    "test_loader = torch.utils.data.DataLoader(dataset=test_dataset,\n",
    "                                          batch_size=batch_size,\n",
    "                                          shuffle=False)\n",
    "\n",
    "dataloaders = {\n",
    "    'train': train_loader,\n",
    "    'test' : test_loader    \n",
    "}\n",
    "image_datasets = {\n",
    "    'train': train_dataset,\n",
    "    'test' : test_dataset\n",
    "}\n",
    "dataset_sizes = {\n",
    "    'train': len(image_datasets['train']),\n",
    "    'test' : len(image_datasets['test'])\n",
    "}\n",
    "\n",
    "classes = ('plane', 'car', 'bird', 'cat',\n",
    "           'deer', 'dog', 'frog', 'horse', 'ship', 'truck')\n",
    "\n",
    "\n",
    "print('train_size: ',dataset_sizes['train'],'\\ntest_size : ',dataset_sizes['test'])\n",
    "print(classes)\n",
    "print('len class: ', len(classes))\n",
    "\n"
   ]
  },
  {
   "cell_type": "code",
   "execution_count": 20,
   "metadata": {},
   "outputs": [],
   "source": [
    "# Get a batch of training data\n",
    "inputs1, classes = next(iter(dataloaders['train']))"
   ]
  },
  {
   "cell_type": "code",
   "execution_count": 21,
   "metadata": {},
   "outputs": [
    {
     "name": "stdout",
     "output_type": "stream",
     "text": [
      "(3, 32, 32)\n",
      "(32, 32, 3)\n"
     ]
    },
    {
     "data": {
      "text/plain": [
       "<matplotlib.image.AxesImage at 0x7f8daea5b7b8>"
      ]
     },
     "execution_count": 21,
     "metadata": {},
     "output_type": "execute_result"
    },
    {
     "data": {
      "image/png": "[encoded data removed]",
      "text/plain": [
       "<Figure size 432x288 with 1 Axes>"
      ]
     },
     "metadata": {
      "needs_background": "light"
     },
     "output_type": "display_data"
    }
   ],
   "source": [
    "images1 = inputs1[0].numpy()\n",
    "print(images1.shape)\n",
    "images1 = np.transpose(images1,[1,2,0])\n",
    "print(images1.shape)\n",
    "# plt.subplot(121)\n",
    "plt.imshow(images1)"
   ]
  },
  {
   "cell_type": "code",
   "execution_count": null,
   "metadata": {},
   "outputs": [],
   "source": []
  },
  {
   "cell_type": "code",
   "execution_count": null,
   "metadata": {},
   "outputs": [],
   "source": []
  },
  {
   "cell_type": "code",
   "execution_count": null,
   "metadata": {},
   "outputs": [],
   "source": [
    "from ResidualUnit_cifar import ResidualBlock\n",
    "from ASPP_cifar import ASPP_cifar"
   ]
  },
  {
   "cell_type": "code",
   "execution_count": null,
   "metadata": {},
   "outputs": [],
   "source": [
    "class Attention_cifar(nn.Module):\n",
    "    def __init__(self):\n",
    "        super(Attention_cifar, self).__init__()\n",
    "        self.begin_residual_blocks = nn.Sequential(\n",
    "            nn.Conv2d(3,64,kernel_size=3, stride = 1, padding = 1),\n",
    "            nn.BatchNorm2d(64),\n",
    "            nn.LeakyReLU(negative_slope=0.2),\n",
    "            nn.MaxPool2d(kernel_size=3, stride=2, padding = 1)\n",
    "        )#16x16\n",
    "        self.trunk_first_conv = nn.Sequential(\n",
    "            nn.Conv2d(64,64, kernel_size=1),\n",
    "            nn.BatchNorm2d(64),\n",
    "            nn.LeakyReLU(negative_slope=0.2)\n",
    "        )#16x16\n",
    "        self.trunk = nn.Sequential(\n",
    "            ResidualBlock(64, 256, 1),\n",
    "            ResidualBlock(256, 256, 1)\n",
    "        )#56x56\n",
    "        self.trunk_last_conv = nn.Sequential(\n",
    "            nn.Conv2d(256, 256, kernel_size = 1),\n",
    "            nn.BatchNorm2d(256),\n",
    "            nn.LeakyReLU(negative_slope=0.2)            \n",
    "        )#56x56\n",
    "        self.trunk_residual = nn.Sequential(\n",
    "            nn.Conv2d(64,256,1),\n",
    "            nn.BatchNorm2d(256),\n",
    "            nn.LeakyReLU(negative_slope=0.2)\n",
    "#             nn.MaxPool2d(kernel_size=3, stride = 2, padding = 1)\n",
    "        )\n",
    "#         resnet = ResNet18()\n",
    "#         self.num_classes = len(class_names)\n",
    "#         self.resnet = nn.Sequential(*list(resnet.children())[:-2])#8x8\n",
    "\n",
    "        self.aspp = ASPP_cifar()\n",
    "        self.mask_first_conv = nn.Sequential(\n",
    "            nn.Conv2d(64, 256, kernel_size=1, stride = 2),\n",
    "            nn.BatchNorm2d(256),\n",
    "            nn.LeakyReLU(negative_slope=0.2)\n",
    "        )#8x8\n",
    "\n",
    "        self.classconv = nn.Sequential(\n",
    "            nn.Conv2d(256, 512, kernel_size=1),\n",
    "            nn.BatchNorm2d(512),\n",
    "            nn.Conv2d(512, 1024, kernel_size=1),\n",
    "            nn.BatchNorm2d(1024),\n",
    "            nn.Conv2d(1024, 2048, kernel_size=1),\n",
    "            nn.BatchNorm2d(2048),\n",
    "            nn.MaxPool2d(2)\n",
    "        )#8x8\n",
    "        self.thresholds = nn.Threshold(0.6, 0.05)\n",
    "        self.mpool = nn.AvgPool2d(kernel_size=8, stride=1)\n",
    "        # y =  x    if x >= threshold\n",
    "        #  value    if x <  threshold\n",
    "        # threshold = 0.1\n",
    "        # value = 20\n",
    "        self.fc = nn.Linear(2048,10)\n",
    "    def forward(self, x):\n",
    "        h = int(x.size()[2] / 2)\n",
    "        w = int(x.size()[3] / 2)\n",
    "        x1 = self.begin_residual_blocks(x)#16x16\n",
    "#         print(x1.shape)\n",
    "#         print(x1.shape)\n",
    "#################trunk_part#################\n",
    "        out_trunk1 = self.trunk_first_conv(x1)#16x16\n",
    "        out_trunk2 = self.trunk(out_trunk1)#16x16\n",
    "        out_trunk3 = self.trunk_last_conv(out_trunk2)#16x16\n",
    "#         out_trunk = F.upsample(out_trunk, size=(h,w), mode=\"bilinear\")#16x16x256\n",
    "        out_trunk4 = out_trunk3 + self.trunk_residual(x1)#16x16\n",
    "        out_trunk4 = F.softmax(out_trunk4)\n",
    "#################trunk_part#################        \n",
    "\n",
    "#################mask_part#################\n",
    "        feature_map = self.mask_first_conv(x1)#16x16x256\n",
    "        mask1 = self.aspp(feature_map)#8x8x256\n",
    "#         print(mask.shape)\n",
    "        mask2 = F.upsample(mask1, size=(h, w), mode=\"bilinear\") #16x16x256\n",
    "        mask2 = F.softmax(mask2)\n",
    "        mask2 = self.thresholds(mask2)\n",
    "#################mask_part#################\n",
    "        out1 = (1 + mask2) * out_trunk4 #16x16x256\n",
    "        out1 = F.softmax(out1)\n",
    "        out2 = self.classconv(out1)#8x8\n",
    "        out3 = self.mpool(out2)#1x1x512\n",
    "        out4 = out3.view(out3.size(0),-1)\n",
    "        out  = self.fc(out4)\n",
    "\n",
    "        return out, x1, out_trunk1, out_trunk2, out_trunk3, feature_map, mask1, mask2, out1, out2, out3, out4\n",
    "        "
   ]
  },
  {
   "cell_type": "code",
   "execution_count": null,
   "metadata": {},
   "outputs": [],
   "source": [
    "def weights_init(m):\n",
    "    classname = m.__class__.__name__\n",
    "    if classname.find('Conv') != -1:         # Conv weight init\n",
    "        m.weight.data.normal_(0.0, 0.02)\n",
    "    elif classname.find('BatchNorm') != -1:  # BatchNorm weight init\n",
    "        m.weight.data.normal_(1.0, 0.02)\n",
    "        m.bias.data.fill_(0)"
   ]
  },
  {
   "cell_type": "code",
   "execution_count": null,
   "metadata": {},
   "outputs": [],
   "source": [
    "model = Attention_cifar()"
   ]
  },
  {
   "cell_type": "code",
   "execution_count": null,
   "metadata": {},
   "outputs": [],
   "source": [
    "model.apply(weights_init)"
   ]
  },
  {
   "cell_type": "code",
   "execution_count": null,
   "metadata": {},
   "outputs": [],
   "source": [
    "use_gpu = torch.cuda.is_available()\n",
    "if use_gpu:\n",
    "    print(\"Using CUDA, model\")\n",
    "    model.cuda() #after second other epoch model\n",
    "summary(model,(3,32,32))"
   ]
  },
  {
   "cell_type": "code",
   "execution_count": null,
   "metadata": {},
   "outputs": [],
   "source": [
    "writer = SummaryWriter()"
   ]
  },
  {
   "cell_type": "code",
   "execution_count": null,
   "metadata": {},
   "outputs": [],
   "source": [
    "def train_model(model, scheduler, criterion, optimizer, num_epochs=10):\n",
    "    since = time.time()\n",
    "    best_model_wts = copy.deepcopy(model.state_dict())\n",
    "    best_acc = 0.0\n",
    "    best_epoch = 0\n",
    "    avg_loss = 0\n",
    "    avg_acc = 0\n",
    "    avg_loss_test = 0\n",
    "    avg_acc_test = 0\n",
    "    \n",
    "    train_batches = len(train_loader)\n",
    "    test_batches = len(test_loader)\n",
    "    \n",
    "    for epoch in range(num_epochs):\n",
    "        print(\"Epoch {}/{}\".format(epoch+1, num_epochs))\n",
    "        print('-' * 10)\n",
    "        \n",
    "        loss_train = 0\n",
    "        loss_test = 0\n",
    "        acc_train = 0\n",
    "        acc_test = 0\n",
    "        \n",
    "        model.train(True)\n",
    "        for i, data in enumerate(train_loader):\n",
    "            if i % 100 == 0:\n",
    "                print(\"\\rTraining batch {}/{}\".format(i, train_batches / 2), end='', flush=True)\n",
    "            # Use half training dataset\n",
    "            if i >= train_batches / 2:\n",
    "                break\n",
    "            inputs, labels = data            \n",
    "            if use_gpu:\n",
    "                inputs, labels = Variable(inputs.cuda()), Variable(labels.cuda())\n",
    "            else:\n",
    "                inputs, labels = Variable(inputs), Variable(labels)\n",
    "            optimizer.zero_grad()\n",
    "            out, x1, out_trunk1, out_trunk2, out_trunk3, feature_map, mask1, mask2, out1, out2, out3, out4 = model(inputs)\n",
    "            _, preds = torch.max(out, 1)\n",
    "            loss = criterion(out, labels)\n",
    "            loss.backward()\n",
    "            optimizer.step()\n",
    "            loss_train += loss.item() * inputs.size(0)\n",
    "            acc_train += torch.sum(preds == labels.data)\n",
    "            del inputs, labels, out, preds\n",
    "            torch.cuda.empty_cache()\n",
    "        print()\n",
    "        # * 2 as we only used half of the dataset\n",
    "        avg_loss = loss_train * 2 / len(train_dataset)\n",
    "        avg_acc = acc_train.double() * 2 / len(train_dataset)\n",
    "        writer.add_scalar('data/train_loss_places', avg_loss, epoch)\n",
    "        writer.add_scalar('data/train_acc_places', avg_acc, epoch)\n",
    "        \n",
    "        \n",
    "        model.train(False)\n",
    "        model.eval()\n",
    "        for i, data in enumerate(test_loader):\n",
    "            if i % 100 == 0:\n",
    "                print()\n",
    "                print(\"\\rTest batch {}/{}\".format(i, test_batches), end='', flush=True)\n",
    "            inputs, labels = data\n",
    "            if use_gpu:\n",
    "                inputs, labels = Variable(inputs.cuda()), Variable(labels.cuda())\n",
    "            else:\n",
    "                inputs, labels = Variable(inputs), Variable(labels)\n",
    "            optimizer.zero_grad()\n",
    "            with torch.no_grad():\n",
    "                out, x1, out_trunk1, out_trunk2, out_trunk3, feature_map, mask1, mask2, out1, out2, out3, out4 = model(inputs)\n",
    "                _, preds = torch.max(out, 1)\n",
    "                loss = criterion(out, labels)\n",
    "                loss_test += loss.item() * inputs.size(0)\n",
    "                acc_test += torch.sum(preds == labels.data)\n",
    "            \n",
    "            del inputs, labels, out, preds\n",
    "            torch.cuda.empty_cache()\n",
    "        \n",
    "        avg_loss_test = loss_test / len(test_dataset)\n",
    "        avg_acc_test = acc_test.double() / len(test_dataset)\n",
    "        writer.add_scalar('data/val_loss_places', avg_loss_test, epoch)\n",
    "        writer.add_scalar('data/val_acc_places', avg_acc_test, epoch)\n",
    "        print()\n",
    "        print(\"Epoch {} result: \".format(epoch+1))\n",
    "        print(\"Avg loss (train): {:.4f}\".format(avg_loss))\n",
    "        print(\"Avg acc (train): {:.4f}\".format(avg_acc))\n",
    "        print(\"Avg loss (test): {:.4f}\".format(avg_loss_test))\n",
    "        print(\"Avg acc (test): {:.4f}\".format(avg_acc_test))\n",
    "        print('-' * 10)\n",
    "        print()\n",
    "        \n",
    "        if avg_acc_test > best_acc:\n",
    "            best_acc = avg_acc_test\n",
    "            best_model_wts = copy.deepcopy(model.state_dict())\n",
    "            best_epoch = epoch\n",
    "        # Decaying Learning Rate\n",
    "        if (epoch+1) / float(total_epoch) == 0.3 or (epoch+1) / float(total_epoch) == 0.6 or (epoch+1) / float(total_epoch) == 0.9:\n",
    "            lr /= 10\n",
    "            print('reset learning rate to:', lr)\n",
    "            for param_group in optimizer.param_groups:\n",
    "                param_group['lr'] = lr\n",
    "                print(param_group['lr'])\n",
    "    elapsed_time = time.time() - since\n",
    "    print()\n",
    "    print(\"Training completed in {:.0f}m {:.0f}s\".format(elapsed_time // 60, elapsed_time % 60))\n",
    "    print(\"Best acc: {:.4f} at {}\".format(best_acc, best_epoch+1))\n",
    "    \n",
    "    model.load_state_dict(best_model_wts)\n",
    "    return model"
   ]
  },
  {
   "cell_type": "code",
   "execution_count": null,
   "metadata": {},
   "outputs": [],
   "source": [
    "import copy\n",
    "lr = 0.001  # 0.1\n",
    "criterion = nn.CrossEntropyLoss()\n",
    "# optimizer = optim.SGD(model.parameters(), lr=lr, momentum=0.9, nesterov=True, weight_decay=0.0001)\n",
    "optimizer = optim.Adam(model.parameters(), lr=lr, weight_decay=0.0001)\n",
    "scheduler = lr_scheduler.StepLR(optimizer, step_size=30, gamma=0.1)\n",
    "total_epoch = 150\n",
    "model_train = train_model(model, scheduler, criterion, optimizer, num_epochs=total_epoch)\n",
    "torch.save(model_train.state_dict(), './Trained/cifar_10_adam_0322.pt')"
   ]
  },
  {
   "cell_type": "code",
   "execution_count": null,
   "metadata": {},
   "outputs": [],
   "source": [
    "############################train more\n",
    "model_train = Attention_cifar()\n",
    " # load the pre-trained weights\n",
    "model_file = 'model_cifar10_small_2_softmax_attention.pt'\n",
    "path = '/home/lee/Research/3.place_lbp_prediction_ISIE2019/Residual_Attention_Network/create_attention_model/small_3/Trained/' + model_file\n",
    "model_train.load_state_dict(torch.load(path))\n",
    "use_gpu = torch.cuda.is_available()\n",
    "if use_gpu:\n",
    "    print(\"Using CUDA, model_trian\")\n",
    "    model_train.cuda() #after second other epoch model"
   ]
  },
  {
   "cell_type": "code",
   "execution_count": null,
   "metadata": {},
   "outputs": [],
   "source": [
    "import copy\n",
    "lr = 0.0001  # 0.1\n",
    "criterion = nn.CrossEntropyLoss()\n",
    "optimizer = optim.SGD(model.parameters(), lr=lr, momentum=0.9, nesterov=True, weight_decay=0.0001)\n",
    "# optimizer = optim.Adam(model.parameters(), lr=lr, weight_decay=0.0001)\n",
    "total_epoch = 400\n",
    "model_train = train_model(model, criterion, optimizer, lr, num_epochs=total_epoch)\n",
    "torch.save(model.state_dict(), './Trained/model_cifar10_small_3_trainmore_softmax_attention.pt')"
   ]
  },
  {
   "cell_type": "code",
   "execution_count": null,
   "metadata": {},
   "outputs": [],
   "source": []
  }
 ],
 "metadata": {
  "kernelspec": {
   "display_name": "Python 3",
   "language": "python",
   "name": "python3"
  },
  "language_info": {
   "codemirror_mode": {
    "name": "ipython",
    "version": 3
   },
   "file_extension": ".py",
   "mimetype": "text/x-python",
   "name": "python",
   "nbconvert_exporter": "python",
   "pygments_lexer": "ipython3",
   "version": "3.6.7"
  }
 },
 "nbformat": 4,
 "nbformat_minor": 2
}
